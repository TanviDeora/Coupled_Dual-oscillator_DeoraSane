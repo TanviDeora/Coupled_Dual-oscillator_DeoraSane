{
 "cells": [
  {
   "cell_type": "code",
   "execution_count": 1,
   "metadata": {},
   "outputs": [],
   "source": [
    "import numpy as np\n",
    "import pandas as pd\n",
    "import glob\n",
    "import os\n",
    "from scipy.io import loadmat\n",
    "\n",
    "import seaborn as sns\n",
    "import matplotlib.pyplot as plt\n",
    "\n",
    "from scipy import stats"
   ]
  },
  {
   "cell_type": "markdown",
   "metadata": {},
   "source": [
    "# Haltere loading"
   ]
  },
  {
   "cell_type": "code",
   "execution_count": 13,
   "metadata": {},
   "outputs": [
    {
     "data": {
      "text/plain": [
       "['../Submission 2/Data to be uploaded to Dryad/HaltereLoading_Figure5\\\\singlewingbeat_fly1.mat',\n",
       " '../Submission 2/Data to be uploaded to Dryad/HaltereLoading_Figure5\\\\singlewingbeat_fly2.mat',\n",
       " '../Submission 2/Data to be uploaded to Dryad/HaltereLoading_Figure5\\\\singlewingbeat_fly3.mat',\n",
       " '../Submission 2/Data to be uploaded to Dryad/HaltereLoading_Figure5\\\\singlewingbeat_fly4.mat',\n",
       " '../Submission 2/Data to be uploaded to Dryad/HaltereLoading_Figure5\\\\singlewingbeat_fly5.mat',\n",
       " '../Submission 2/Data to be uploaded to Dryad/HaltereLoading_Figure5\\\\singlewingbeat_fly8.mat']"
      ]
     },
     "execution_count": 13,
     "metadata": {},
     "output_type": "execute_result"
    }
   ],
   "source": [
    "datadir = r\"../Submission 2/Data to be uploaded to Dryad/HaltereLoading_Figure5/\"\n",
    "files = glob.glob(datadir + \"singlewingbeat*.mat\")\n",
    "files"
   ]
  },
  {
   "cell_type": "code",
   "execution_count": 14,
   "metadata": {},
   "outputs": [],
   "source": [
    "del_intact = []\n",
    "del_loaded = []\n",
    "flyid = []\n",
    "\n",
    "for f in files:\n",
    "    data = loadmat(f)\n",
    "    \n",
    "    idnum = os.path.basename(f)[-5:-4]\n",
    "    \n",
    "    wing = data['loadedhaltere3'].T[0]\n",
    "    loadedhaltere = data['loadedhaltere3'].T[1]\n",
    "    intacthaltere = data['loadedhaltere3'].T[2]\n",
    "    \n",
    "    diff_intact = np.mean(wing) - np.mean(intacthaltere)\n",
    "    diff_loaded = np.mean(wing) - np.mean(loadedhaltere)\n",
    "    \n",
    "    del_intact.append(diff_intact)\n",
    "    del_loaded.append(diff_loaded)\n",
    "    flyid.append(idnum)"
   ]
  },
  {
   "cell_type": "code",
   "execution_count": 15,
   "metadata": {},
   "outputs": [],
   "source": [
    "df = pd.DataFrame({'intact': del_intact, 'loaded': del_loaded, 'flyid': flyid})"
   ]
  },
  {
   "cell_type": "markdown",
   "metadata": {},
   "source": [
    "### t test - null hypothesis: the difference in wing - intact haltere freq is the same as wing - loaded haltere freq"
   ]
  },
  {
   "cell_type": "code",
   "execution_count": 16,
   "metadata": {},
   "outputs": [
    {
     "data": {
      "image/png": "[encoded data removed]",
      "text/plain": [
       "<Figure size 432x288 with 1 Axes>"
      ]
     },
     "metadata": {
      "needs_background": "light"
     },
     "output_type": "display_data"
    }
   ],
   "source": [
    "subset = df.iloc[:,0:2]\n",
    "subset.columns = ['intact haltere', 'loaded haltere']\n",
    "sns.pointplot(data = subset, linestyles = 'None', color = 'k')\n",
    "ax = sns.swarmplot(data = subset)\n",
    "ax.set(ylabel = 'Wing frequency - Haltere frequency (Hz)')\n",
    "plt.savefig(r\"./SampleSizeAndStats/HaltereLoading.png\")"
   ]
  },
  {
   "cell_type": "code",
   "execution_count": 17,
   "metadata": {},
   "outputs": [
    {
     "data": {
      "text/plain": [
       "Ttest_relResult(statistic=-13.039170025850558, pvalue=4.7322546460043054e-05)"
      ]
     },
     "execution_count": 17,
     "metadata": {},
     "output_type": "execute_result"
    }
   ],
   "source": [
    "stats.ttest_rel(df.intact, df.loaded)"
   ]
  },
  {
   "cell_type": "code",
   "execution_count": 18,
   "metadata": {},
   "outputs": [],
   "source": [
    "# get my estimated sample size\n",
    "intact = (np.mean(df.intact), np.std(df.intact))\n",
    "loaded = (np.mean(df.loaded), np.std(df.loaded))"
   ]
  },
  {
   "cell_type": "markdown",
   "metadata": {},
   "source": [
    "#### Simulate 10000 datasets based on our data mean and std and do power analysis"
   ]
  },
  {
   "cell_type": "code",
   "execution_count": 19,
   "metadata": {},
   "outputs": [],
   "source": [
    "def simulate_test_paired(samp_size_ctrl, mean_ctrl, sd_ctrl, \n",
    "                  samp_size_trt,  mean_trt,  sd_trt):\n",
    "    '''\n",
    "    Simulate data from two normal distributions and calculate p-value\n",
    "    from paired t-test\n",
    "    \n",
    "        Args: \n",
    "        sample sizes, means, and sd's from control and trt groups\n",
    "\n",
    "        Returns:\n",
    "        p-value from simulated data\n",
    "    '''\n",
    "    simdata_ctrl = np.random.normal(loc = mean_ctrl, scale = sd_ctrl, size = samp_size_ctrl)\n",
    "    simdata_trt = np.random.normal(loc = mean_trt, scale = sd_trt, size = samp_size_trt)\n",
    "    _, p = stats.ttest_rel(simdata_ctrl, simdata_trt)\n",
    "    return(p)"
   ]
  },
  {
   "cell_type": "code",
   "execution_count": 20,
   "metadata": {},
   "outputs": [],
   "source": [
    "samp_size_ctrl = 4\n",
    "mean_ctrl, sd_ctrl = intact\n",
    "\n",
    "samp_size_trt = 4\n",
    "mean_trt, sd_trt = loaded\n",
    "\n",
    "# simulate 10000 samples\n",
    "simulated_pvals = [simulate_test_paired(samp_size_ctrl, mean_ctrl, sd_ctrl, \n",
    "                                 samp_size_trt, mean_trt, sd_trt) for ii in range(1000)]"
   ]
  },
  {
   "cell_type": "code",
   "execution_count": 21,
   "metadata": {},
   "outputs": [
    {
     "data": {
      "image/png": "[encoded data removed]",
      "text/plain": [
       "<Figure size 432x288 with 1 Axes>"
      ]
     },
     "metadata": {
      "needs_background": "light"
     },
     "output_type": "display_data"
    },
    {
     "name": "stdout",
     "output_type": "stream",
     "text": [
      "Power for sample size ( 4 4 ) =  1.0\n"
     ]
    }
   ],
   "source": [
    "plt.hist(simulated_pvals)\n",
    "plt.show()\n",
    "\n",
    "# report power\n",
    "print(\"Power for sample size (\", samp_size_ctrl, samp_size_trt, \") = \",np.mean(np.array(simulated_pvals) < 0.05))"
   ]
  },
  {
   "cell_type": "code",
   "execution_count": 22,
   "metadata": {},
   "outputs": [],
   "source": [
    "mean_ctrl, sd_ctrl = intact\n",
    "mean_trt, sd_trt = loaded\n",
    "\n",
    "power = []\n",
    "for ss in range(2,10):\n",
    "    samp_size_ctrl = ss\n",
    "    samp_size_trt = ss\n",
    "    # simulate 10000 samples\n",
    "    simulated_pvals = [simulate_test_paired(samp_size_ctrl, mean_ctrl, sd_ctrl, \n",
    "                                 samp_size_trt, mean_trt, sd_trt) for ii in range(1000)]\n",
    "    p = np.mean(np.array(simulated_pvals) < 0.05)\n",
    "    power.append(p)"
   ]
  },
  {
   "cell_type": "code",
   "execution_count": 23,
   "metadata": {},
   "outputs": [
    {
     "data": {
      "image/png": "[encoded data removed]",
      "text/plain": [
       "<Figure size 432x288 with 1 Axes>"
      ]
     },
     "metadata": {
      "needs_background": "light"
     },
     "output_type": "display_data"
    }
   ],
   "source": [
    "plt.plot(range(2,10), power, marker = 'o', color = 'k')\n",
    "plt.axhline(y = 0.8, linestyle = '--', color = 'k')\n",
    "plt.ylabel(\"power\")\n",
    "plt.xlabel('Sample Size')\n",
    "plt.savefig(r\"./SampleSizeAndStats\\HaltereLoading-PowerAnalysis.png\")"
   ]
  },
  {
   "cell_type": "markdown",
   "metadata": {},
   "source": [
    "# Wing Coupling "
   ]
  },
  {
   "cell_type": "markdown",
   "metadata": {},
   "source": [
    "### get the treatment variables together"
   ]
  },
  {
   "cell_type": "markdown",
   "metadata": {},
   "source": [
    "#### treatment - Slit Sc"
   ]
  },
  {
   "cell_type": "code",
   "execution_count": 24,
   "metadata": {},
   "outputs": [
    {
     "data": {
      "text/plain": [
       "['../Submission 2/Data to be uploaded to Dryad/AsymWingsSlitSc_Figure2\\\\fly1\\\\fly1_fft.mat',\n",
       " '../Submission 2/Data to be uploaded to Dryad/AsymWingsSlitSc_Figure2\\\\fly2\\\\fly2_fft.mat',\n",
       " '../Submission 2/Data to be uploaded to Dryad/AsymWingsSlitSc_Figure2\\\\fly7\\\\fly7_fft.mat',\n",
       " '../Submission 2/Data to be uploaded to Dryad/AsymWingsSlitSc_Figure2\\\\fly8\\\\fly8_fft.mat',\n",
       " '../Submission 2/Data to be uploaded to Dryad/AsymWingsSlitSc_Figure2\\\\fly9\\\\fly9_fft.mat']"
      ]
     },
     "execution_count": 24,
     "metadata": {},
     "output_type": "execute_result"
    }
   ],
   "source": [
    "direc = r\"../Submission 2/Data to be uploaded to Dryad/AsymWingsSlitSc_Figure2/\"\n",
    "files = glob.glob(direc + '*/*fft.mat', recursive = True)\n",
    "files"
   ]
  },
  {
   "cell_type": "code",
   "execution_count": 25,
   "metadata": {},
   "outputs": [],
   "source": [
    "Delta_wingFreq = []\n",
    "treatment = []\n",
    "\n",
    "for f in files:\n",
    "    data = loadmat(f)\n",
    "    select = os.path.basename(f)[:-4]\n",
    "    data[select].T\n",
    "    \n",
    "    # get the frequency of left and right wing where we see the largest difference\n",
    "    left_wing = data[select].T[0]\n",
    "    right_wing = data[select].T[2]\n",
    "    \n",
    "    delta = np.max(abs(left_wing - right_wing))\n",
    "    trt = \"Slit Scutellum\"\n",
    "    \n",
    "    Delta_wingFreq.append(delta)\n",
    "    treatment = trt"
   ]
  },
  {
   "cell_type": "code",
   "execution_count": 26,
   "metadata": {},
   "outputs": [
    {
     "data": {
      "text/html": [
       "<div>\n",
       "<style scoped>\n",
       "    .dataframe tbody tr th:only-of-type {\n",
       "        vertical-align: middle;\n",
       "    }\n",
       "\n",
       "    .dataframe tbody tr th {\n",
       "        vertical-align: top;\n",
       "    }\n",
       "\n",
       "    .dataframe thead th {\n",
       "        text-align: right;\n",
       "    }\n",
       "</style>\n",
       "<table border=\"1\" class=\"dataframe\">\n",
       "  <thead>\n",
       "    <tr style=\"text-align: right;\">\n",
       "      <th></th>\n",
       "      <th>Delta_wingFreq</th>\n",
       "      <th>treatment</th>\n",
       "    </tr>\n",
       "  </thead>\n",
       "  <tbody>\n",
       "    <tr>\n",
       "      <td>0</td>\n",
       "      <td>40.00</td>\n",
       "      <td>Slit Scutellum</td>\n",
       "    </tr>\n",
       "    <tr>\n",
       "      <td>1</td>\n",
       "      <td>70.63</td>\n",
       "      <td>Slit Scutellum</td>\n",
       "    </tr>\n",
       "    <tr>\n",
       "      <td>2</td>\n",
       "      <td>49.98</td>\n",
       "      <td>Slit Scutellum</td>\n",
       "    </tr>\n",
       "    <tr>\n",
       "      <td>3</td>\n",
       "      <td>62.47</td>\n",
       "      <td>Slit Scutellum</td>\n",
       "    </tr>\n",
       "    <tr>\n",
       "      <td>4</td>\n",
       "      <td>84.20</td>\n",
       "      <td>Slit Scutellum</td>\n",
       "    </tr>\n",
       "  </tbody>\n",
       "</table>\n",
       "</div>"
      ],
      "text/plain": [
       "   Delta_wingFreq       treatment\n",
       "0           40.00  Slit Scutellum\n",
       "1           70.63  Slit Scutellum\n",
       "2           49.98  Slit Scutellum\n",
       "3           62.47  Slit Scutellum\n",
       "4           84.20  Slit Scutellum"
      ]
     },
     "execution_count": 26,
     "metadata": {},
     "output_type": "execute_result"
    }
   ],
   "source": [
    "temp_df1 = pd.DataFrame({'Delta_wingFreq': Delta_wingFreq, 'treatment': treatment})\n",
    "temp_df1"
   ]
  },
  {
   "cell_type": "markdown",
   "metadata": {},
   "source": [
    "#### control - intact thorax data"
   ]
  },
  {
   "cell_type": "code",
   "execution_count": 27,
   "metadata": {},
   "outputs": [
    {
     "data": {
      "text/plain": [
       "['../Submission 2/Data to be uploaded to Dryad/AsymWingsIntactSc_Figure2\\\\singlewingbeat_fly1.mat',\n",
       " '../Submission 2/Data to be uploaded to Dryad/AsymWingsIntactSc_Figure2\\\\singlewingbeat_fly2.mat',\n",
       " '../Submission 2/Data to be uploaded to Dryad/AsymWingsIntactSc_Figure2\\\\singlewingbeat_fly3.mat',\n",
       " '../Submission 2/Data to be uploaded to Dryad/AsymWingsIntactSc_Figure2\\\\singlewingbeat_fly5.mat',\n",
       " '../Submission 2/Data to be uploaded to Dryad/AsymWingsIntactSc_Figure2\\\\singlewingbeat_fly6.mat',\n",
       " '../Submission 2/Data to be uploaded to Dryad/AsymWingsIntactSc_Figure2\\\\singlewingbeat_fly7.mat']"
      ]
     },
     "execution_count": 27,
     "metadata": {},
     "output_type": "execute_result"
    }
   ],
   "source": [
    "direc = r\"../Submission 2/Data to be uploaded to Dryad/AsymWingsIntactSc_Figure2/\"\n",
    "files = glob.glob(direc + 'singlewingbeat_fly*.mat')\n",
    "files"
   ]
  },
  {
   "cell_type": "code",
   "execution_count": 28,
   "metadata": {},
   "outputs": [],
   "source": [
    "Delta_wingFreq = []\n",
    "treatment = []\n",
    "\n",
    "for f in files:\n",
    "    data = loadmat(f)\n",
    "    \n",
    "    # select the largest wingcut\n",
    "    treatments = [int(keys[7]) for keys in data.keys() if 'cutwing' in keys]\n",
    "    extreme_treatment = str(np.max(treatments))\n",
    "    select = [key for key in list(data.keys()) if extreme_treatment in key]\n",
    "\n",
    "    left_wing = data[select[0]].T[0]\n",
    "    right_wing = data[select[0]].T[1]\n",
    "    delta = abs(np.nanmean(left_wing) - np.nanmean(right_wing))\n",
    "    trt = \"Intact Thorax (Control)\"\n",
    "    \n",
    "    Delta_wingFreq.append(delta)\n",
    "    treatment = trt"
   ]
  },
  {
   "cell_type": "code",
   "execution_count": 29,
   "metadata": {},
   "outputs": [],
   "source": [
    "temp_df2 = pd.DataFrame({'Delta_wingFreq': Delta_wingFreq, 'treatment': treatment})"
   ]
  },
  {
   "cell_type": "code",
   "execution_count": 30,
   "metadata": {},
   "outputs": [
    {
     "data": {
      "text/html": [
       "<div>\n",
       "<style scoped>\n",
       "    .dataframe tbody tr th:only-of-type {\n",
       "        vertical-align: middle;\n",
       "    }\n",
       "\n",
       "    .dataframe tbody tr th {\n",
       "        vertical-align: top;\n",
       "    }\n",
       "\n",
       "    .dataframe thead th {\n",
       "        text-align: right;\n",
       "    }\n",
       "</style>\n",
       "<table border=\"1\" class=\"dataframe\">\n",
       "  <thead>\n",
       "    <tr style=\"text-align: right;\">\n",
       "      <th></th>\n",
       "      <th>Delta_wingFreq</th>\n",
       "      <th>treatment</th>\n",
       "    </tr>\n",
       "  </thead>\n",
       "  <tbody>\n",
       "    <tr>\n",
       "      <td>0</td>\n",
       "      <td>40.000000</td>\n",
       "      <td>Slit Scutellum</td>\n",
       "    </tr>\n",
       "    <tr>\n",
       "      <td>1</td>\n",
       "      <td>70.630000</td>\n",
       "      <td>Slit Scutellum</td>\n",
       "    </tr>\n",
       "    <tr>\n",
       "      <td>2</td>\n",
       "      <td>49.980000</td>\n",
       "      <td>Slit Scutellum</td>\n",
       "    </tr>\n",
       "    <tr>\n",
       "      <td>3</td>\n",
       "      <td>62.470000</td>\n",
       "      <td>Slit Scutellum</td>\n",
       "    </tr>\n",
       "    <tr>\n",
       "      <td>4</td>\n",
       "      <td>84.200000</td>\n",
       "      <td>Slit Scutellum</td>\n",
       "    </tr>\n",
       "    <tr>\n",
       "      <td>5</td>\n",
       "      <td>0.578533</td>\n",
       "      <td>Intact Thorax (Control)</td>\n",
       "    </tr>\n",
       "    <tr>\n",
       "      <td>6</td>\n",
       "      <td>1.042189</td>\n",
       "      <td>Intact Thorax (Control)</td>\n",
       "    </tr>\n",
       "    <tr>\n",
       "      <td>7</td>\n",
       "      <td>0.104807</td>\n",
       "      <td>Intact Thorax (Control)</td>\n",
       "    </tr>\n",
       "    <tr>\n",
       "      <td>8</td>\n",
       "      <td>0.049020</td>\n",
       "      <td>Intact Thorax (Control)</td>\n",
       "    </tr>\n",
       "    <tr>\n",
       "      <td>9</td>\n",
       "      <td>0.000000</td>\n",
       "      <td>Intact Thorax (Control)</td>\n",
       "    </tr>\n",
       "    <tr>\n",
       "      <td>10</td>\n",
       "      <td>0.059524</td>\n",
       "      <td>Intact Thorax (Control)</td>\n",
       "    </tr>\n",
       "  </tbody>\n",
       "</table>\n",
       "</div>"
      ],
      "text/plain": [
       "    Delta_wingFreq                treatment\n",
       "0        40.000000           Slit Scutellum\n",
       "1        70.630000           Slit Scutellum\n",
       "2        49.980000           Slit Scutellum\n",
       "3        62.470000           Slit Scutellum\n",
       "4        84.200000           Slit Scutellum\n",
       "5         0.578533  Intact Thorax (Control)\n",
       "6         1.042189  Intact Thorax (Control)\n",
       "7         0.104807  Intact Thorax (Control)\n",
       "8         0.049020  Intact Thorax (Control)\n",
       "9         0.000000  Intact Thorax (Control)\n",
       "10        0.059524  Intact Thorax (Control)"
      ]
     },
     "execution_count": 30,
     "metadata": {},
     "output_type": "execute_result"
    }
   ],
   "source": [
    "Wing_coordination_df = []\n",
    "Wing_coordination_df = pd.concat([temp_df1, temp_df2], ignore_index = True )\n",
    "Wing_coordination_df.Delta_wingFreq = Wing_coordination_df.Delta_wingFreq\n",
    "Wing_coordination_df"
   ]
  },
  {
   "cell_type": "markdown",
   "metadata": {},
   "source": [
    "### plot them and get the power analysis"
   ]
  },
  {
   "cell_type": "markdown",
   "metadata": {},
   "source": [
    "### t test - null hypothesis: the difference in left- right freq for intact thorax and slit Sc is the same"
   ]
  },
  {
   "cell_type": "code",
   "execution_count": 31,
   "metadata": {},
   "outputs": [
    {
     "data": {
      "image/png": "[encoded data removed]",
      "text/plain": [
       "<Figure size 432x288 with 1 Axes>"
      ]
     },
     "metadata": {
      "needs_background": "light"
     },
     "output_type": "display_data"
    }
   ],
   "source": [
    "sns.pointplot(x = 'treatment', y = 'Delta_wingFreq', data = Wing_coordination_df, \n",
    "             estimator = np.mean, color = 'k', linestyles = 'None',\n",
    "             order = ['Intact Thorax (Control)', 'Slit Scutellum'])\n",
    "ax = sns.swarmplot(x = 'treatment', y = 'Delta_wingFreq', data = Wing_coordination_df,\n",
    "                  order = ['Intact Thorax (Control)', 'Slit Scutellum'])\n",
    "ax.set(ylabel = 'Left - Right Wing frequency (in Hz)')\n",
    "\n",
    "plt.savefig(r\"./SampleSizeAndStats/SlitSc.png\")"
   ]
  },
  {
   "cell_type": "code",
   "execution_count": 32,
   "metadata": {},
   "outputs": [
    {
     "data": {
      "text/plain": [
       "Ttest_indResult(statistic=-7.910562876825567, pvalue=0.0013760916235578582)"
      ]
     },
     "execution_count": 32,
     "metadata": {},
     "output_type": "execute_result"
    }
   ],
   "source": [
    "ctr = Wing_coordination_df['Delta_wingFreq'][Wing_coordination_df.treatment == 'Intact Thorax (Control)'].values\n",
    "trt = Wing_coordination_df['Delta_wingFreq'][Wing_coordination_df.treatment == 'Slit Scutellum'].values\n",
    "stats.ttest_ind(ctr, trt, equal_var=False)"
   ]
  },
  {
   "cell_type": "code",
   "execution_count": 33,
   "metadata": {},
   "outputs": [
    {
     "data": {
      "text/html": [
       "<div>\n",
       "<style scoped>\n",
       "    .dataframe tbody tr th:only-of-type {\n",
       "        vertical-align: middle;\n",
       "    }\n",
       "\n",
       "    .dataframe tbody tr th {\n",
       "        vertical-align: top;\n",
       "    }\n",
       "\n",
       "    .dataframe thead tr th {\n",
       "        text-align: left;\n",
       "    }\n",
       "\n",
       "    .dataframe thead tr:last-of-type th {\n",
       "        text-align: right;\n",
       "    }\n",
       "</style>\n",
       "<table border=\"1\" class=\"dataframe\">\n",
       "  <thead>\n",
       "    <tr>\n",
       "      <th></th>\n",
       "      <th colspan=\"3\" halign=\"left\">Delta_wingFreq</th>\n",
       "    </tr>\n",
       "    <tr>\n",
       "      <th></th>\n",
       "      <th>mean</th>\n",
       "      <th>std</th>\n",
       "      <th>count</th>\n",
       "    </tr>\n",
       "    <tr>\n",
       "      <th>treatment</th>\n",
       "      <th></th>\n",
       "      <th></th>\n",
       "      <th></th>\n",
       "    </tr>\n",
       "  </thead>\n",
       "  <tbody>\n",
       "    <tr>\n",
       "      <td>Intact Thorax (Control)</td>\n",
       "      <td>0.305679</td>\n",
       "      <td>0.418844</td>\n",
       "      <td>6</td>\n",
       "    </tr>\n",
       "    <tr>\n",
       "      <td>Slit Scutellum</td>\n",
       "      <td>61.456000</td>\n",
       "      <td>17.281048</td>\n",
       "      <td>5</td>\n",
       "    </tr>\n",
       "  </tbody>\n",
       "</table>\n",
       "</div>"
      ],
      "text/plain": [
       "                        Delta_wingFreq                 \n",
       "                                  mean        std count\n",
       "treatment                                              \n",
       "Intact Thorax (Control)       0.305679   0.418844     6\n",
       "Slit Scutellum               61.456000  17.281048     5"
      ]
     },
     "execution_count": 33,
     "metadata": {},
     "output_type": "execute_result"
    }
   ],
   "source": [
    "# calculate mean and sd of original data\n",
    "result = Wing_coordination_df.groupby(['treatment'], as_index=True).agg(\n",
    "                      {'Delta_wingFreq':['mean','std', \"count\"]})\n",
    "result"
   ]
  },
  {
   "cell_type": "markdown",
   "metadata": {},
   "source": [
    "#### Simulate 10000 datasets based on our data mean and std and do power analysis"
   ]
  },
  {
   "cell_type": "code",
   "execution_count": 34,
   "metadata": {},
   "outputs": [],
   "source": [
    "def simulate_test(samp_size_ctrl, mean_ctrl, sd_ctrl, \n",
    "                  samp_size_trt,  mean_trt,  sd_trt):\n",
    "    '''\n",
    "    Simulate data from two normal distributions and calculate p-value\n",
    "    from paired t-test\n",
    "    \n",
    "        Args: \n",
    "        sample sizes, means, and sd's from control and trt groups\n",
    "\n",
    "        Returns:\n",
    "        p-value from simulated data\n",
    "    '''\n",
    "    simdata_ctrl = np.random.normal(loc = mean_ctrl, scale = sd_ctrl, size = samp_size_ctrl)\n",
    "    simdata_trt = np.random.normal(loc = mean_trt, scale = sd_trt, size = samp_size_trt)\n",
    "    _, p = stats.ttest_ind(simdata_ctrl, simdata_trt, equal_var=False)\n",
    "    return(p)                           "
   ]
  },
  {
   "cell_type": "code",
   "execution_count": 35,
   "metadata": {},
   "outputs": [],
   "source": [
    "mean_ctrl = result.loc['Intact Thorax (Control)', 'Delta_wingFreq']['mean']\n",
    "sd_ctrl = result.loc['Intact Thorax (Control)', 'Delta_wingFreq']['std']\n",
    "\n",
    "mean_trt = result.loc['Slit Scutellum', 'Delta_wingFreq']['mean']\n",
    "sd_trt = result.loc['Slit Scutellum', 'Delta_wingFreq']['std']\n",
    "\n",
    "power = []\n",
    "for ss in range(2,9):\n",
    "    samp_size_ctrl = ss\n",
    "    samp_size_trt = ss\n",
    "    # simulate 10000 samples\n",
    "    simulated_pvals = [simulate_test(samp_size_ctrl, mean_ctrl, sd_ctrl, \n",
    "                                 samp_size_trt, mean_trt, sd_trt) for ii in range(1000)]\n",
    "    p = np.mean(np.array(simulated_pvals) < 0.05)\n",
    "    power.append(p)"
   ]
  },
  {
   "cell_type": "code",
   "execution_count": 36,
   "metadata": {},
   "outputs": [
    {
     "data": {
      "image/png": "[encoded data removed]",
      "text/plain": [
       "<Figure size 432x288 with 1 Axes>"
      ]
     },
     "metadata": {
      "needs_background": "light"
     },
     "output_type": "display_data"
    }
   ],
   "source": [
    "plt.plot(range(2,9), power, marker = 'o', color = 'k')\n",
    "plt.axhline(y = 0.8, linestyle = '--', color = 'k')\n",
    "\n",
    "plt.ylabel(\"power\")\n",
    "plt.xlabel('Sample Size')\n",
    "plt.savefig(r\"./SampleSizeAndStats/WingCoordination-PowerAnalysis.png\")"
   ]
  },
  {
   "cell_type": "markdown",
   "metadata": {},
   "source": [
    "# Wing Haltere Coordination "
   ]
  },
  {
   "cell_type": "code",
   "execution_count": 2,
   "metadata": {},
   "outputs": [],
   "source": [
    "direc = r\"../Submission 2/Data to be uploaded to Dryad/delFreq_Figure4/delFreqWithoutLength/\"\n",
    "data = loadmat(direc + 'KruskalWallisPlusMultCompare.mat')\n",
    "# power test for ANOVA (used on any F stats)"
   ]
  },
  {
   "cell_type": "code",
   "execution_count": 3,
   "metadata": {},
   "outputs": [
    {
     "data": {
      "text/html": [
       "<div>\n",
       "<style scoped>\n",
       "    .dataframe tbody tr th:only-of-type {\n",
       "        vertical-align: middle;\n",
       "    }\n",
       "\n",
       "    .dataframe tbody tr th {\n",
       "        vertical-align: top;\n",
       "    }\n",
       "\n",
       "    .dataframe thead th {\n",
       "        text-align: right;\n",
       "    }\n",
       "</style>\n",
       "<table border=\"1\" class=\"dataframe\">\n",
       "  <thead>\n",
       "    <tr style=\"text-align: right;\">\n",
       "      <th></th>\n",
       "      <th>Source</th>\n",
       "      <th>SS</th>\n",
       "      <th>df</th>\n",
       "      <th>MS</th>\n",
       "      <th>Chi-sq</th>\n",
       "      <th>Prob&gt;Chi-sq</th>\n",
       "    </tr>\n",
       "    <tr>\n",
       "      <th>Source</th>\n",
       "      <th></th>\n",
       "      <th></th>\n",
       "      <th></th>\n",
       "      <th></th>\n",
       "      <th></th>\n",
       "      <th></th>\n",
       "    </tr>\n",
       "  </thead>\n",
       "  <tbody>\n",
       "    <tr>\n",
       "      <td>Groups</td>\n",
       "      <td>Groups</td>\n",
       "      <td>1142.625</td>\n",
       "      <td>3</td>\n",
       "      <td>380.875</td>\n",
       "      <td>19.55879836</td>\n",
       "      <td>0.000209498</td>\n",
       "    </tr>\n",
       "    <tr>\n",
       "      <td>Error</td>\n",
       "      <td>Error</td>\n",
       "      <td>317.875</td>\n",
       "      <td>22</td>\n",
       "      <td>14.44886364</td>\n",
       "      <td>[]</td>\n",
       "      <td>[]</td>\n",
       "    </tr>\n",
       "    <tr>\n",
       "      <td>Total</td>\n",
       "      <td>Total</td>\n",
       "      <td>1460.500</td>\n",
       "      <td>25</td>\n",
       "      <td>[]</td>\n",
       "      <td>[]</td>\n",
       "      <td>[]</td>\n",
       "    </tr>\n",
       "  </tbody>\n",
       "</table>\n",
       "</div>"
      ],
      "text/plain": [
       "        Source        SS  df           MS       Chi-sq  Prob>Chi-sq\n",
       "Source                                                             \n",
       "Groups  Groups  1142.625   3      380.875  19.55879836  0.000209498\n",
       "Error    Error   317.875  22  14.44886364           []           []\n",
       "Total    Total  1460.500  25           []           []           []"
      ]
     },
     "execution_count": 3,
     "metadata": {},
     "output_type": "execute_result"
    }
   ],
   "source": [
    "table = pd.read_csv(direc + 'anovaTable.csv')\n",
    "table.index = table['Source']\n",
    "table"
   ]
  },
  {
   "cell_type": "code",
   "execution_count": 33,
   "metadata": {},
   "outputs": [],
   "source": [
    "control = data['delFreqWithoutLength'].T[0]\n",
    "oneRidge = data['delFreqWithoutLength'].T[1][:-2]\n",
    "twoRidge = data['delFreqWithoutLength'].T[2][:-2]\n",
    "HaltereAb = data['delFreqWithoutLength'].T[3][:-2]"
   ]
  },
  {
   "cell_type": "code",
   "execution_count": 34,
   "metadata": {},
   "outputs": [
    {
     "data": {
      "text/plain": [
       "KruskalResult(statistic=19.558798356727166, pvalue=0.00020949826322100518)"
      ]
     },
     "execution_count": 34,
     "metadata": {},
     "output_type": "execute_result"
    }
   ],
   "source": [
    "# stats.kruskal(data['delFreqWithoutLength'].T)\n",
    "stats.kruskal(control, oneRidge, twoRidge, HaltereAb)"
   ]
  },
  {
   "cell_type": "code",
   "execution_count": 36,
   "metadata": {},
   "outputs": [],
   "source": [
    "def simulate_kruskal(samp_size_ctrl, mean_ctrl, sd_ctrl, \n",
    "                  samp_size_trt1,  mean_trt1,  sd_trt1,\n",
    "                    samp_size_trt2,  mean_trt2,  sd_trt2,\n",
    "                    samp_size_trt3,  mean_trt3,  sd_trt3):\n",
    "    '''\n",
    "    Simulate data from two normal distributions and calculate p-value\n",
    "    from paired t-test\n",
    "    \n",
    "        Args: \n",
    "        sample sizes, means, and sd's from control and trt groups\n",
    "\n",
    "        Returns:\n",
    "        p-value from simulated data\n",
    "    '''\n",
    "    simdata_ctrl = np.random.normal(loc = mean_ctrl, scale = sd_ctrl, size = samp_size_ctrl)\n",
    "    simdata_trt1 = np.random.normal(loc = mean_trt1, scale = sd_trt1, size = samp_size_trt1)\n",
    "    simdata_trt2 = np.random.normal(loc = mean_trt2, scale = sd_trt2, size = samp_size_trt2)\n",
    "    simdata_trt3 = np.random.normal(loc = mean_trt3, scale = sd_trt3, size = samp_size_trt3)\n",
    "    \n",
    "    _, p = stats.kruskal(simdata_ctrl, simdata_trt1, simdata_trt1, simdata_trt1)\n",
    "    return(p)  "
   ]
  },
  {
   "cell_type": "code",
   "execution_count": 37,
   "metadata": {},
   "outputs": [],
   "source": [
    "samp_size_ctrl = 8\n",
    "mean_ctrl = np.nanmean(control)\n",
    "sd_ctrl = np.nanstd(control)\n",
    "\n",
    "samp_size_trt1 = 6\n",
    "mean_trt1 = np.nanmean(oneRidge)\n",
    "sd_trt1 = np.nanstd(oneRidge)\n",
    "                    \n",
    "samp_size_trt2 = 6  \n",
    "mean_trt2 = np.nanmean(twoRidge)\n",
    "sd_trt2 = np.nanstd(twoRidge)\n",
    "\n",
    "samp_size_trt3 = 6\n",
    "mean_trt3 = np.nanmean(HaltereAb)\n",
    "sd_trt3 = np.nanstd(HaltereAb)"
   ]
  },
  {
   "cell_type": "code",
   "execution_count": 38,
   "metadata": {},
   "outputs": [
    {
     "data": {
      "text/plain": [
       "0.0035768063677411883"
      ]
     },
     "execution_count": 38,
     "metadata": {},
     "output_type": "execute_result"
    }
   ],
   "source": [
    "simulate_kruskal(samp_size_ctrl, mean_ctrl, sd_ctrl, \n",
    "                  samp_size_trt1,  mean_trt1,  sd_trt1,\n",
    "                    samp_size_trt2,  mean_trt2,  sd_trt2,\n",
    "                    samp_size_trt3,  mean_trt3,  sd_trt3)"
   ]
  },
  {
   "cell_type": "code",
   "execution_count": 55,
   "metadata": {},
   "outputs": [],
   "source": [
    "power = []\n",
    "for ss in range(2,15):\n",
    "    samp_size_ctrl = ss\n",
    "    samp_size_trt1 = ss\n",
    "    samp_size_trt2 = ss\n",
    "    samp_size_trt3 = ss    \n",
    "    # simulate 10000 samples\n",
    "    simulated_pvals = [simulate_kruskal(samp_size_ctrl, mean_ctrl, sd_ctrl, \n",
    "                  samp_size_trt1,  mean_trt1,  sd_trt1,\n",
    "                    samp_size_trt2,  mean_trt2,  sd_trt2,\n",
    "                    samp_size_trt3,  mean_trt3,  sd_trt3) for ii in range(1000)]\n",
    "    p = np.mean(np.array(simulated_pvals) < 0.05)\n",
    "    power.append(p)"
   ]
  },
  {
   "cell_type": "code",
   "execution_count": 56,
   "metadata": {},
   "outputs": [
    {
     "data": {
      "image/png": "[encoded data removed]",
      "text/plain": [
       "<Figure size 432x288 with 1 Axes>"
      ]
     },
     "metadata": {
      "needs_background": "light"
     },
     "output_type": "display_data"
    }
   ],
   "source": [
    "plt.plot(range(2,15), power, marker = 'o', color = 'k')\n",
    "plt.axhline(y = 0.8, linestyle = '--', color = 'k')\n",
    "\n",
    "plt.ylabel(\"power\")\n",
    "plt.xlabel('Sample Size')\n",
    "plt.savefig(r\"./SampleSizeAndStats/DelFreq-PowerAnalysis.png\")"
   ]
  },
  {
   "cell_type": "code",
   "execution_count": 57,
   "metadata": {},
   "outputs": [
    {
     "data": {
      "text/plain": [
       "[0.0,\n",
       " 0.0,\n",
       " 0.441,\n",
       " 0.471,\n",
       " 0.552,\n",
       " 0.69,\n",
       " 0.733,\n",
       " 0.791,\n",
       " 0.831,\n",
       " 0.88,\n",
       " 0.904,\n",
       " 0.94,\n",
       " 0.935]"
      ]
     },
     "execution_count": 57,
     "metadata": {},
     "output_type": "execute_result"
    }
   ],
   "source": [
    "power"
   ]
  },
  {
   "cell_type": "code",
   "execution_count": 84,
   "metadata": {},
   "outputs": [
    {
     "data": {
      "text/plain": [
       "0.7452993362543503"
      ]
     },
     "execution_count": 84,
     "metadata": {},
     "output_type": "execute_result"
    }
   ],
   "source": [
    "SSeffect = float(table.loc['Groups', 'SS'])\n",
    "dfeffect = float(table.loc['Groups', 'df'])\n",
    "MSerror = float(table.loc['Error', 'MS'])\n",
    "SStotal = float(table.loc['Total', 'SS'])\n",
    "\n",
    "# omega_sq = (SSeffect – (dfeffect*MSerror)) / MSerror + SStotal\n",
    "d = MSerror + SStotal\n",
    "n = dfeffect*MSerror\n",
    "\n",
    "omega_sq = (SSeffect - n)/d\n",
    "omega_sq"
   ]
  },
  {
   "cell_type": "code",
   "execution_count": 99,
   "metadata": {},
   "outputs": [],
   "source": [
    "import statsmodels.stats.power as power"
   ]
  },
  {
   "cell_type": "code",
   "execution_count": 121,
   "metadata": {},
   "outputs": [
    {
     "data": {
      "text/plain": [
       "0.14754429870179753"
      ]
     },
     "execution_count": 121,
     "metadata": {},
     "output_type": "execute_result"
    }
   ],
   "source": [
    "power.FTestPower().power(omega_sq, \n",
    "                             table.loc['Groups', 'df'],\n",
    "                             table.loc['Error', 'df'],\n",
    "                             0.05, ncc = 25)"
   ]
  }
 ],
 "metadata": {
  "kernelspec": {
   "display_name": "Python 3",
   "language": "python",
   "name": "python3"
  },
  "language_info": {
   "codemirror_mode": {
    "name": "ipython",
    "version": 3
   },
   "file_extension": ".py",
   "mimetype": "text/x-python",
   "name": "python",
   "nbconvert_exporter": "python",
   "pygments_lexer": "ipython3",
   "version": "3.6.5"
  }
 },
 "nbformat": 4,
 "nbformat_minor": 2
}
