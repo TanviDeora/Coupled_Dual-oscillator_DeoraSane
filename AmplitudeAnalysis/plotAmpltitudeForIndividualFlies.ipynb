{
 "cells": [
  {
   "cell_type": "code",
   "execution_count": 1,
   "metadata": {},
   "outputs": [],
   "source": [
    "import pandas as pd\n",
    "import numpy as np\n",
    "import glob\n",
    "import os\n",
    "import matplotlib.pyplot as plt"
   ]
  },
  {
   "cell_type": "markdown",
   "metadata": {},
   "source": [
    "# plot the DATA!"
   ]
  },
  {
   "cell_type": "code",
   "execution_count": 2,
   "metadata": {},
   "outputs": [],
   "source": [
    "def plotIndividual(df, ax, o, var1):\n",
    "    import seaborn as sns\n",
    "    sns.set(font_scale=2)\n",
    "    \n",
    "#     if Exp == 'haltere_loading':\n",
    "#         order = ['intacthalteres', 'loadedhaltere1', 'loadedhaltere2', 'loadedhaltere3', 'removedload']\n",
    "#     else:\n",
    "#         order = ['cutwing5', 'cutwing4', 'cutwing3',  'cutwing2', 'cutwing1', 'intactwings']\n",
    "\n",
    "    g = sns.boxplot(x=var1, y=\"amplitude\", hue=\"body\", data=df, \n",
    "                    order=o,\n",
    "                    fliersize=0,\n",
    "                    **boxplot_kwargs,\n",
    "                    ax = ax\n",
    "                    )\n",
    "    g = sns.stripplot(x=var1, y=\"amplitude\", hue=\"body\", data=df, \n",
    "                  dodge=True,\n",
    "                  order=o,\n",
    "                  ax = ax,\n",
    "                  **stripplot_kwargs)\n",
    "                  \n",
    "    g.set(xlabel='', ylabel='Amplitude (degree)')\n",
    "    plt.legend(bbox_to_anchor=(1.05, 1), loc=2, borderaxespad=0.)"
   ]
  },
  {
   "cell_type": "code",
   "execution_count": 3,
   "metadata": {},
   "outputs": [],
   "source": [
    "pal = {'left wing': '#b8e186', #light green\n",
    "       'right wing': '#4dac26', #dark green\n",
    "       'left haltere': '#fdb863', #light brown\n",
    "       'right haltere': '#e66101' #dark brown\n",
    "      }\n",
    "\n",
    "boxprops = {'edgecolor': 'k', 'linewidth': 2,'alpha': 0.5}\n",
    "lineprops = {'color': 'k', 'linewidth': 2}\n",
    "capprops = {'linewidth': 0}\n",
    "\n",
    "# Set up some general kwargs that we'll use in both the stripplot and boxplot\n",
    "kwargs = {'palette': pal, 'hue_order': ['left wing', 'right wing', 'left haltere', 'right haltere']}\n",
    "\n",
    "# The boxplot kwargs get passed to matplotlib's boxplot function.\n",
    "# Note how we can re-use our lineprops dict to make sure all the lines\n",
    "# match. You could also edit each line type (e.g. whiskers, caps, etc)\n",
    "# separately.\n",
    "boxplot_kwargs = dict({'boxprops': boxprops, 'medianprops': lineprops,\n",
    "                       'whiskerprops': lineprops, 'capprops': capprops,\n",
    "                       'width': 0.75},\n",
    "                      **kwargs)\n",
    "stripplot_kwargs = dict({'linewidth': 0.6, 'size': 6, 'alpha': 0.7},\n",
    "                        **kwargs)"
   ]
  },
  {
   "cell_type": "markdown",
   "metadata": {},
   "source": [
    "## haltere loading"
   ]
  },
  {
   "cell_type": "code",
   "execution_count": 4,
   "metadata": {},
   "outputs": [],
   "source": [
    "Exp = 'haltere_loading'"
   ]
  },
  {
   "cell_type": "code",
   "execution_count": 5,
   "metadata": {},
   "outputs": [],
   "source": [
    "am_list = glob.glob('../dataFolder/AmplitudeAnalysis/v1/' + Exp + '/fly*_AmpDataCompiled.csv')"
   ]
  },
  {
   "cell_type": "code",
   "execution_count": 6,
   "metadata": {},
   "outputs": [
    {
     "data": {
      "text/html": [
       "<div>\n",
       "<style scoped>\n",
       "    .dataframe tbody tr th:only-of-type {\n",
       "        vertical-align: middle;\n",
       "    }\n",
       "\n",
       "    .dataframe tbody tr th {\n",
       "        vertical-align: top;\n",
       "    }\n",
       "\n",
       "    .dataframe thead th {\n",
       "        text-align: right;\n",
       "    }\n",
       "</style>\n",
       "<table border=\"1\" class=\"dataframe\">\n",
       "  <thead>\n",
       "    <tr style=\"text-align: right;\">\n",
       "      <th></th>\n",
       "      <th>Unnamed: 0</th>\n",
       "      <th>body</th>\n",
       "      <th>amplitude</th>\n",
       "      <th>flyID</th>\n",
       "      <th>experiment</th>\n",
       "      <th>treatment</th>\n",
       "    </tr>\n",
       "  </thead>\n",
       "  <tbody>\n",
       "    <tr>\n",
       "      <td>0</td>\n",
       "      <td>0</td>\n",
       "      <td>LW</td>\n",
       "      <td>143.445927</td>\n",
       "      <td>fly1</td>\n",
       "      <td>halLoad</td>\n",
       "      <td>intacthalteres</td>\n",
       "    </tr>\n",
       "    <tr>\n",
       "      <td>1</td>\n",
       "      <td>1</td>\n",
       "      <td>LW</td>\n",
       "      <td>137.232640</td>\n",
       "      <td>fly1</td>\n",
       "      <td>halLoad</td>\n",
       "      <td>intacthalteres</td>\n",
       "    </tr>\n",
       "    <tr>\n",
       "      <td>2</td>\n",
       "      <td>2</td>\n",
       "      <td>LW</td>\n",
       "      <td>143.518398</td>\n",
       "      <td>fly1</td>\n",
       "      <td>halLoad</td>\n",
       "      <td>intacthalteres</td>\n",
       "    </tr>\n",
       "    <tr>\n",
       "      <td>3</td>\n",
       "      <td>3</td>\n",
       "      <td>LW</td>\n",
       "      <td>136.900475</td>\n",
       "      <td>fly1</td>\n",
       "      <td>halLoad</td>\n",
       "      <td>intacthalteres</td>\n",
       "    </tr>\n",
       "    <tr>\n",
       "      <td>4</td>\n",
       "      <td>4</td>\n",
       "      <td>LW</td>\n",
       "      <td>149.560784</td>\n",
       "      <td>fly1</td>\n",
       "      <td>halLoad</td>\n",
       "      <td>intacthalteres</td>\n",
       "    </tr>\n",
       "  </tbody>\n",
       "</table>\n",
       "</div>"
      ],
      "text/plain": [
       "   Unnamed: 0 body   amplitude flyID experiment       treatment\n",
       "0           0   LW  143.445927  fly1    halLoad  intacthalteres\n",
       "1           1   LW  137.232640  fly1    halLoad  intacthalteres\n",
       "2           2   LW  143.518398  fly1    halLoad  intacthalteres\n",
       "3           3   LW  136.900475  fly1    halLoad  intacthalteres\n",
       "4           4   LW  149.560784  fly1    halLoad  intacthalteres"
      ]
     },
     "execution_count": 6,
     "metadata": {},
     "output_type": "execute_result"
    }
   ],
   "source": [
    "df = pd.read_csv(am_list[0])\n",
    "df.head()"
   ]
  },
  {
   "cell_type": "code",
   "execution_count": 8,
   "metadata": {},
   "outputs": [
    {
     "data": {
      "image/png": "[encoded data removed]",
      "text/plain": [
       "<Figure size 1440x720 with 1 Axes>"
      ]
     },
     "metadata": {
      "needs_background": "light"
     },
     "output_type": "display_data"
    }
   ],
   "source": [
    "fig, ax = plt.subplots(figsize = (20, 10))\n",
    "\n",
    "for f in am_list:\n",
    "    df = pd.read_csv(f)\n",
    "    flyID, _ = os.path.basename(f).split('_', 1)\n",
    "    \n",
    "    df['body'] = df['body'].replace({'LW':'left wing',\n",
    "                    'RW':'right wing',\n",
    "                   'LH': 'left haltere',\n",
    "                   'RH': 'right haltere'})\n",
    "    order = ['intacthalteres', 'loadedhaltere1', 'loadedhaltere2', 'loadedhaltere3', 'removedload']\n",
    "    plotIndividual(df, ax, order, 'treatment')\n",
    "    fig.savefig('../dataFolder/Figure/AmplitudeAnalysis/v1/' + Exp + '/IndividualAmpltitude_' + flyID + '.pdf',\n",
    "                bbox_inches = 'tight')\n",
    "    ax.clear()"
   ]
  },
  {
   "cell_type": "markdown",
   "metadata": {},
   "source": [
    "## Epi ridge data"
   ]
  },
  {
   "cell_type": "code",
   "execution_count": 9,
   "metadata": {},
   "outputs": [],
   "source": [
    "Exp = 'epi_ridge_cut'\n",
    "am_list = glob.glob('../dataFolder/AmplitudeAnalysis/v1/' + Exp + '/fly*_AmpDataCompiled.csv')"
   ]
  },
  {
   "cell_type": "code",
   "execution_count": 10,
   "metadata": {},
   "outputs": [
    {
     "data": {
      "text/html": [
       "<div>\n",
       "<style scoped>\n",
       "    .dataframe tbody tr th:only-of-type {\n",
       "        vertical-align: middle;\n",
       "    }\n",
       "\n",
       "    .dataframe tbody tr th {\n",
       "        vertical-align: top;\n",
       "    }\n",
       "\n",
       "    .dataframe thead th {\n",
       "        text-align: right;\n",
       "    }\n",
       "</style>\n",
       "<table border=\"1\" class=\"dataframe\">\n",
       "  <thead>\n",
       "    <tr style=\"text-align: right;\">\n",
       "      <th></th>\n",
       "      <th>Unnamed: 0</th>\n",
       "      <th>Unnamed: 0.1</th>\n",
       "      <th>body</th>\n",
       "      <th>amplitude</th>\n",
       "      <th>flyID</th>\n",
       "      <th>experiment</th>\n",
       "      <th>treatment</th>\n",
       "      <th>winglength</th>\n",
       "    </tr>\n",
       "  </thead>\n",
       "  <tbody>\n",
       "    <tr>\n",
       "      <td>0</td>\n",
       "      <td>0</td>\n",
       "      <td>0</td>\n",
       "      <td>LW</td>\n",
       "      <td>113.121066</td>\n",
       "      <td>fly1</td>\n",
       "      <td>epi</td>\n",
       "      <td>cutwing1</td>\n",
       "      <td>0.82</td>\n",
       "    </tr>\n",
       "    <tr>\n",
       "      <td>1</td>\n",
       "      <td>1</td>\n",
       "      <td>1</td>\n",
       "      <td>LW</td>\n",
       "      <td>115.889899</td>\n",
       "      <td>fly1</td>\n",
       "      <td>epi</td>\n",
       "      <td>cutwing1</td>\n",
       "      <td>0.82</td>\n",
       "    </tr>\n",
       "    <tr>\n",
       "      <td>2</td>\n",
       "      <td>2</td>\n",
       "      <td>2</td>\n",
       "      <td>LW</td>\n",
       "      <td>111.598500</td>\n",
       "      <td>fly1</td>\n",
       "      <td>epi</td>\n",
       "      <td>cutwing1</td>\n",
       "      <td>0.82</td>\n",
       "    </tr>\n",
       "    <tr>\n",
       "      <td>3</td>\n",
       "      <td>3</td>\n",
       "      <td>3</td>\n",
       "      <td>LW</td>\n",
       "      <td>104.126717</td>\n",
       "      <td>fly1</td>\n",
       "      <td>epi</td>\n",
       "      <td>cutwing1</td>\n",
       "      <td>0.82</td>\n",
       "    </tr>\n",
       "    <tr>\n",
       "      <td>4</td>\n",
       "      <td>4</td>\n",
       "      <td>4</td>\n",
       "      <td>LW</td>\n",
       "      <td>112.573514</td>\n",
       "      <td>fly1</td>\n",
       "      <td>epi</td>\n",
       "      <td>cutwing1</td>\n",
       "      <td>0.82</td>\n",
       "    </tr>\n",
       "  </tbody>\n",
       "</table>\n",
       "</div>"
      ],
      "text/plain": [
       "   Unnamed: 0  Unnamed: 0.1 body   amplitude flyID experiment treatment  \\\n",
       "0           0             0   LW  113.121066  fly1        epi  cutwing1   \n",
       "1           1             1   LW  115.889899  fly1        epi  cutwing1   \n",
       "2           2             2   LW  111.598500  fly1        epi  cutwing1   \n",
       "3           3             3   LW  104.126717  fly1        epi  cutwing1   \n",
       "4           4             4   LW  112.573514  fly1        epi  cutwing1   \n",
       "\n",
       "   winglength  \n",
       "0        0.82  \n",
       "1        0.82  \n",
       "2        0.82  \n",
       "3        0.82  \n",
       "4        0.82  "
      ]
     },
     "execution_count": 10,
     "metadata": {},
     "output_type": "execute_result"
    }
   ],
   "source": [
    "df = pd.read_csv(am_list[0])\n",
    "df.head()"
   ]
  },
  {
   "cell_type": "code",
   "execution_count": 12,
   "metadata": {},
   "outputs": [
    {
     "name": "stderr",
     "output_type": "stream",
     "text": [
      "C:\\Users\\Tanvi\\AppData\\Local\\Continuum\\anaconda3\\lib\\site-packages\\seaborn\\categorical.py:1187: FutureWarning: elementwise comparison failed; returning scalar instead, but in the future will perform elementwise comparison\n",
      "  hue_mask = self.plot_hues[i] == hue_level\n",
      "C:\\Users\\Tanvi\\AppData\\Local\\Continuum\\anaconda3\\lib\\site-packages\\seaborn\\categorical.py:1187: FutureWarning: elementwise comparison failed; returning scalar instead, but in the future will perform elementwise comparison\n",
      "  hue_mask = self.plot_hues[i] == hue_level\n"
     ]
    },
    {
     "data": {
      "image/png": "[encoded data removed]",
      "text/plain": [
       "<Figure size 1440x720 with 1 Axes>"
      ]
     },
     "metadata": {},
     "output_type": "display_data"
    }
   ],
   "source": [
    "fig, ax = plt.subplots(figsize = (20, 10))\n",
    "\n",
    "for f in am_list:\n",
    "    df = pd.read_csv(f)\n",
    "    flyID, _ = os.path.basename(f).split('_', 1)\n",
    "    \n",
    "    df['body'] = df['body'].replace({'LW':'left wing',\n",
    "                    'RW':'right wing',\n",
    "                   'LH': 'left haltere',\n",
    "                   'RH': 'right haltere'})\n",
    "      \n",
    "    order = sorted(df.winglength.unique())\n",
    "    plotIndividual(df, ax, order, 'winglength')\n",
    "    fig.savefig('../dataFolder/Figure/AmplitudeAnalysis/v1/' + Exp + '/IndividualAmpltitude_' + flyID + '.pdf',\n",
    "               bbox_inches = 'tight')\n",
    "    ax.clear()"
   ]
  },
  {
   "cell_type": "markdown",
   "metadata": {},
   "source": [
    "## Slit Sc"
   ]
  },
  {
   "cell_type": "code",
   "execution_count": 13,
   "metadata": {},
   "outputs": [],
   "source": [
    "Exp = 'Slit_sc'\n",
    "am_list = glob.glob('../dataFolder/AmplitudeAnalysis/v1/' + Exp + '/fly*_AmpDataCompiled.csv')"
   ]
  },
  {
   "cell_type": "code",
   "execution_count": 14,
   "metadata": {},
   "outputs": [
    {
     "data": {
      "text/html": [
       "<div>\n",
       "<style scoped>\n",
       "    .dataframe tbody tr th:only-of-type {\n",
       "        vertical-align: middle;\n",
       "    }\n",
       "\n",
       "    .dataframe tbody tr th {\n",
       "        vertical-align: top;\n",
       "    }\n",
       "\n",
       "    .dataframe thead th {\n",
       "        text-align: right;\n",
       "    }\n",
       "</style>\n",
       "<table border=\"1\" class=\"dataframe\">\n",
       "  <thead>\n",
       "    <tr style=\"text-align: right;\">\n",
       "      <th></th>\n",
       "      <th>Unnamed: 0</th>\n",
       "      <th>Unnamed: 0.1</th>\n",
       "      <th>body</th>\n",
       "      <th>amplitude</th>\n",
       "      <th>flyID</th>\n",
       "      <th>experiment</th>\n",
       "      <th>treatment</th>\n",
       "      <th>winglength</th>\n",
       "    </tr>\n",
       "  </thead>\n",
       "  <tbody>\n",
       "    <tr>\n",
       "      <td>0</td>\n",
       "      <td>0</td>\n",
       "      <td>0</td>\n",
       "      <td>LW</td>\n",
       "      <td>31.182006</td>\n",
       "      <td>fly1</td>\n",
       "      <td>sc</td>\n",
       "      <td>cutwing1</td>\n",
       "      <td>0.719372</td>\n",
       "    </tr>\n",
       "    <tr>\n",
       "      <td>1</td>\n",
       "      <td>1</td>\n",
       "      <td>1</td>\n",
       "      <td>LW</td>\n",
       "      <td>130.738347</td>\n",
       "      <td>fly1</td>\n",
       "      <td>sc</td>\n",
       "      <td>cutwing1</td>\n",
       "      <td>0.719372</td>\n",
       "    </tr>\n",
       "    <tr>\n",
       "      <td>2</td>\n",
       "      <td>2</td>\n",
       "      <td>2</td>\n",
       "      <td>LW</td>\n",
       "      <td>37.345607</td>\n",
       "      <td>fly1</td>\n",
       "      <td>sc</td>\n",
       "      <td>cutwing1</td>\n",
       "      <td>0.719372</td>\n",
       "    </tr>\n",
       "    <tr>\n",
       "      <td>3</td>\n",
       "      <td>3</td>\n",
       "      <td>3</td>\n",
       "      <td>LW</td>\n",
       "      <td>155.477042</td>\n",
       "      <td>fly1</td>\n",
       "      <td>sc</td>\n",
       "      <td>cutwing1</td>\n",
       "      <td>0.719372</td>\n",
       "    </tr>\n",
       "    <tr>\n",
       "      <td>4</td>\n",
       "      <td>4</td>\n",
       "      <td>4</td>\n",
       "      <td>LW</td>\n",
       "      <td>30.503515</td>\n",
       "      <td>fly1</td>\n",
       "      <td>sc</td>\n",
       "      <td>cutwing1</td>\n",
       "      <td>0.719372</td>\n",
       "    </tr>\n",
       "  </tbody>\n",
       "</table>\n",
       "</div>"
      ],
      "text/plain": [
       "   Unnamed: 0  Unnamed: 0.1 body   amplitude flyID experiment treatment  \\\n",
       "0           0             0   LW   31.182006  fly1         sc  cutwing1   \n",
       "1           1             1   LW  130.738347  fly1         sc  cutwing1   \n",
       "2           2             2   LW   37.345607  fly1         sc  cutwing1   \n",
       "3           3             3   LW  155.477042  fly1         sc  cutwing1   \n",
       "4           4             4   LW   30.503515  fly1         sc  cutwing1   \n",
       "\n",
       "   winglength  \n",
       "0    0.719372  \n",
       "1    0.719372  \n",
       "2    0.719372  \n",
       "3    0.719372  \n",
       "4    0.719372  "
      ]
     },
     "execution_count": 14,
     "metadata": {},
     "output_type": "execute_result"
    }
   ],
   "source": [
    "df = pd.read_csv(am_list[0])\n",
    "df.head()"
   ]
  },
  {
   "cell_type": "code",
   "execution_count": 15,
   "metadata": {},
   "outputs": [
    {
     "data": {
      "image/png": "[encoded data removed]",
      "text/plain": [
       "<Figure size 1440x720 with 1 Axes>"
      ]
     },
     "metadata": {},
     "output_type": "display_data"
    }
   ],
   "source": [
    "fig, ax = plt.subplots(figsize = (20, 10))\n",
    "\n",
    "for f in am_list:\n",
    "    df = pd.read_csv(f)\n",
    "    flyID, _ = os.path.basename(f).split('_', 1)\n",
    "    \n",
    "    df['body'] = df['body'].replace({'LW':'left wing',\n",
    "                    'RW':'right wing'})\n",
    "      \n",
    "    order = sorted(df.winglength.unique())\n",
    "    plotIndividual(df, ax, order, 'winglength')\n",
    "    fig.savefig('../dataFolder/Figure/AmplitudeAnalysis/v1/' + Exp + '/IndividualAmpltitude_' + flyID + '.pdf',\n",
    "               bbox_inches = 'tight')\n",
    "    ax.clear()"
   ]
  },
  {
   "cell_type": "markdown",
   "metadata": {},
   "source": [
    "## asymmetric_wings"
   ]
  },
  {
   "cell_type": "code",
   "execution_count": 16,
   "metadata": {},
   "outputs": [],
   "source": [
    "Exp = 'asymmetric_wings'\n",
    "am_list = glob.glob('../dataFolder/AmplitudeAnalysis/v1/' + Exp + '/fly*_AmpDataCompiled.csv')"
   ]
  },
  {
   "cell_type": "code",
   "execution_count": 17,
   "metadata": {},
   "outputs": [
    {
     "data": {
      "text/html": [
       "<div>\n",
       "<style scoped>\n",
       "    .dataframe tbody tr th:only-of-type {\n",
       "        vertical-align: middle;\n",
       "    }\n",
       "\n",
       "    .dataframe tbody tr th {\n",
       "        vertical-align: top;\n",
       "    }\n",
       "\n",
       "    .dataframe thead th {\n",
       "        text-align: right;\n",
       "    }\n",
       "</style>\n",
       "<table border=\"1\" class=\"dataframe\">\n",
       "  <thead>\n",
       "    <tr style=\"text-align: right;\">\n",
       "      <th></th>\n",
       "      <th>Unnamed: 0</th>\n",
       "      <th>Unnamed: 0.1</th>\n",
       "      <th>body</th>\n",
       "      <th>amplitude</th>\n",
       "      <th>flyID</th>\n",
       "      <th>experiment</th>\n",
       "      <th>treatment</th>\n",
       "      <th>winglength</th>\n",
       "    </tr>\n",
       "  </thead>\n",
       "  <tbody>\n",
       "    <tr>\n",
       "      <td>0</td>\n",
       "      <td>0</td>\n",
       "      <td>0</td>\n",
       "      <td>LW</td>\n",
       "      <td>90.791874</td>\n",
       "      <td>fly1</td>\n",
       "      <td>asym</td>\n",
       "      <td>cutwing1</td>\n",
       "      <td>0.821102</td>\n",
       "    </tr>\n",
       "    <tr>\n",
       "      <td>1</td>\n",
       "      <td>1</td>\n",
       "      <td>1</td>\n",
       "      <td>LW</td>\n",
       "      <td>90.770565</td>\n",
       "      <td>fly1</td>\n",
       "      <td>asym</td>\n",
       "      <td>cutwing1</td>\n",
       "      <td>0.821102</td>\n",
       "    </tr>\n",
       "    <tr>\n",
       "      <td>2</td>\n",
       "      <td>2</td>\n",
       "      <td>2</td>\n",
       "      <td>LW</td>\n",
       "      <td>88.873146</td>\n",
       "      <td>fly1</td>\n",
       "      <td>asym</td>\n",
       "      <td>cutwing1</td>\n",
       "      <td>0.821102</td>\n",
       "    </tr>\n",
       "    <tr>\n",
       "      <td>3</td>\n",
       "      <td>3</td>\n",
       "      <td>3</td>\n",
       "      <td>LW</td>\n",
       "      <td>82.452489</td>\n",
       "      <td>fly1</td>\n",
       "      <td>asym</td>\n",
       "      <td>cutwing1</td>\n",
       "      <td>0.821102</td>\n",
       "    </tr>\n",
       "    <tr>\n",
       "      <td>4</td>\n",
       "      <td>4</td>\n",
       "      <td>4</td>\n",
       "      <td>LW</td>\n",
       "      <td>86.347878</td>\n",
       "      <td>fly1</td>\n",
       "      <td>asym</td>\n",
       "      <td>cutwing1</td>\n",
       "      <td>0.821102</td>\n",
       "    </tr>\n",
       "  </tbody>\n",
       "</table>\n",
       "</div>"
      ],
      "text/plain": [
       "   Unnamed: 0  Unnamed: 0.1 body  amplitude flyID experiment treatment  \\\n",
       "0           0             0   LW  90.791874  fly1       asym  cutwing1   \n",
       "1           1             1   LW  90.770565  fly1       asym  cutwing1   \n",
       "2           2             2   LW  88.873146  fly1       asym  cutwing1   \n",
       "3           3             3   LW  82.452489  fly1       asym  cutwing1   \n",
       "4           4             4   LW  86.347878  fly1       asym  cutwing1   \n",
       "\n",
       "   winglength  \n",
       "0    0.821102  \n",
       "1    0.821102  \n",
       "2    0.821102  \n",
       "3    0.821102  \n",
       "4    0.821102  "
      ]
     },
     "execution_count": 17,
     "metadata": {},
     "output_type": "execute_result"
    }
   ],
   "source": [
    "df = pd.read_csv(am_list[0])\n",
    "df.head()"
   ]
  },
  {
   "cell_type": "code",
   "execution_count": 18,
   "metadata": {},
   "outputs": [
    {
     "name": "stderr",
     "output_type": "stream",
     "text": [
      "C:\\Users\\Tanvi\\AppData\\Local\\Continuum\\anaconda3\\lib\\site-packages\\seaborn\\categorical.py:1187: FutureWarning: elementwise comparison failed; returning scalar instead, but in the future will perform elementwise comparison\n",
      "  hue_mask = self.plot_hues[i] == hue_level\n",
      "C:\\Users\\Tanvi\\AppData\\Local\\Continuum\\anaconda3\\lib\\site-packages\\seaborn\\categorical.py:1187: FutureWarning: elementwise comparison failed; returning scalar instead, but in the future will perform elementwise comparison\n",
      "  hue_mask = self.plot_hues[i] == hue_level\n"
     ]
    },
    {
     "data": {
      "image/png": "[encoded data removed]",
      "text/plain": [
       "<Figure size 1440x720 with 1 Axes>"
      ]
     },
     "metadata": {},
     "output_type": "display_data"
    }
   ],
   "source": [
    "fig, ax = plt.subplots(figsize = (20, 10))\n",
    "\n",
    "for f in am_list:\n",
    "    df = pd.read_csv(f)\n",
    "    flyID, _ = os.path.basename(f).split('_', 1)\n",
    "    \n",
    "    df['body'] = df['body'].replace({'LW':'left wing',\n",
    "                    'RW':'right wing'})\n",
    "      \n",
    "    order = sorted(df.winglength.unique())\n",
    "    plotIndividual(df, ax, order, 'winglength')\n",
    "    fig.savefig('../dataFolder/Figure/AmplitudeAnalysis/v1/' + Exp + '/IndividualAmpltitude_' + flyID + '.pdf',\n",
    "               bbox_inches = 'tight')\n",
    "    ax.clear()"
   ]
  }
 ],
 "metadata": {
  "kernelspec": {
   "display_name": "Python 3",
   "language": "python",
   "name": "python3"
  },
  "language_info": {
   "codemirror_mode": {
    "name": "ipython",
    "version": 3
   },
   "file_extension": ".py",
   "mimetype": "text/x-python",
   "name": "python",
   "nbconvert_exporter": "python",
   "pygments_lexer": "ipython3",
   "version": "3.6.5"
  }
 },
 "nbformat": 4,
 "nbformat_minor": 2
}
