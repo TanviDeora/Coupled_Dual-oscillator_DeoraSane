{
 "cells": [
  {
   "cell_type": "code",
   "execution_count": 1,
   "metadata": {},
   "outputs": [],
   "source": [
    "import glob\n",
    "import os\n",
    "import pandas as pd\n",
    "import numpy as np\n",
    "\n",
    "import seaborn as sns\n",
    "import matplotlib.pyplot as plt"
   ]
  },
  {
   "cell_type": "code",
   "execution_count": 2,
   "metadata": {},
   "outputs": [],
   "source": [
    "pal = {'RW': '#231f20', 'LW': '#ed1c24'}\n",
    "\n",
    "boxprops = {'edgecolor': 'k', 'linewidth': 2,'alpha': 0.5}\n",
    "lineprops = {'color': 'k', 'linewidth': 2}\n",
    "capprops = {'linewidth': 0}\n",
    "\n",
    "# Set up some general kwargs that we'll use in both the stripplot and boxplot\n",
    "# Note that you can change the order of hue variables here.\n",
    "kwargs = {'palette': pal, 'hue_order': ['RW', 'LW']}\n",
    "\n",
    "# The boxplot kwargs get passed to matplotlib's boxplot function.\n",
    "# Note how we can re-use our lineprops dict to make sure all the lines\n",
    "# match. You could also edit each line type (e.g. whiskers, caps, etc)\n",
    "# separately.\n",
    "boxplot_kwargs = dict({'boxprops': boxprops, 'medianprops': lineprops,\n",
    "                       'whiskerprops': lineprops, 'capprops': capprops,\n",
    "                       'width': 0.75},\n",
    "                      **kwargs)\n",
    "stripplot_kwargs = dict({'linewidth': 0.6, 'size': 6, 'alpha': 0.7},\n",
    "                        **kwargs)"
   ]
  },
  {
   "cell_type": "code",
   "execution_count": 3,
   "metadata": {},
   "outputs": [],
   "source": [
    "# compute bins for Asym, slit and epi ridge data\n",
    "\n",
    "bins = [0.3, 0.5, 0.6, 0.7 ,0.9, 1]\n",
    "Exp = ['asymmetric_wings', 'Slit_sc']\n",
    "#        ,'epi_ridge_cut']\n",
    "for ex in Exp:\n",
    "    df = pd.read_csv('../dataFolder/AmplitudeAnalysis/v1/' + ex + '/median_summary.csv')\n",
    "    if 'binned' not in df.columns:\n",
    "        df['binned'] = pd.cut(df['winglength'], bins)\n",
    "        df.to_csv('../dataFolder/AmplitudeAnalysis/v1/' + ex + '/median_summary.csv')"
   ]
  },
  {
   "cell_type": "markdown",
   "metadata": {},
   "source": [
    "### Haltere loading"
   ]
  },
  {
   "cell_type": "code",
   "execution_count": 4,
   "metadata": {},
   "outputs": [],
   "source": [
    "df = pd.read_csv('../dataFolder/AmplitudeAnalysis/v1/haltere_loading/median_summary.csv')\n",
    "df = df.rename(columns={\"winglength\": \"treatment\"})\n",
    "\n",
    "# drop the haltere values \n",
    "i1 = df.loc[(df.body == 'LH')].index\n",
    "i2 = df.loc[(df.body == 'RH')].index\n",
    "indexNames = list(i1) + list(i2)\n",
    "df.drop(indexNames, inplace = True)\n",
    "df.drop(columns = 'Unnamed: 0', inplace = True)"
   ]
  },
  {
   "cell_type": "code",
   "execution_count": 5,
   "metadata": {},
   "outputs": [
    {
     "data": {
      "text/html": [
       "<div>\n",
       "<style scoped>\n",
       "    .dataframe tbody tr th:only-of-type {\n",
       "        vertical-align: middle;\n",
       "    }\n",
       "\n",
       "    .dataframe tbody tr th {\n",
       "        vertical-align: top;\n",
       "    }\n",
       "\n",
       "    .dataframe thead th {\n",
       "        text-align: right;\n",
       "    }\n",
       "</style>\n",
       "<table border=\"1\" class=\"dataframe\">\n",
       "  <thead>\n",
       "    <tr style=\"text-align: right;\">\n",
       "      <th></th>\n",
       "      <th>flyID</th>\n",
       "      <th>body</th>\n",
       "      <th>med_amplitude</th>\n",
       "      <th>treatment</th>\n",
       "    </tr>\n",
       "  </thead>\n",
       "  <tbody>\n",
       "    <tr>\n",
       "      <td>1</td>\n",
       "      <td>fly1</td>\n",
       "      <td>LW</td>\n",
       "      <td>143.449808</td>\n",
       "      <td>intacthalteres</td>\n",
       "    </tr>\n",
       "    <tr>\n",
       "      <td>3</td>\n",
       "      <td>fly1</td>\n",
       "      <td>RW</td>\n",
       "      <td>156.706477</td>\n",
       "      <td>intacthalteres</td>\n",
       "    </tr>\n",
       "    <tr>\n",
       "      <td>5</td>\n",
       "      <td>fly1</td>\n",
       "      <td>LW</td>\n",
       "      <td>113.960979</td>\n",
       "      <td>loadedhaltere1</td>\n",
       "    </tr>\n",
       "    <tr>\n",
       "      <td>7</td>\n",
       "      <td>fly1</td>\n",
       "      <td>RW</td>\n",
       "      <td>154.035367</td>\n",
       "      <td>loadedhaltere1</td>\n",
       "    </tr>\n",
       "    <tr>\n",
       "      <td>9</td>\n",
       "      <td>fly1</td>\n",
       "      <td>LW</td>\n",
       "      <td>119.242538</td>\n",
       "      <td>loadedhaltere2</td>\n",
       "    </tr>\n",
       "  </tbody>\n",
       "</table>\n",
       "</div>"
      ],
      "text/plain": [
       "  flyID body  med_amplitude       treatment\n",
       "1  fly1   LW     143.449808  intacthalteres\n",
       "3  fly1   RW     156.706477  intacthalteres\n",
       "5  fly1   LW     113.960979  loadedhaltere1\n",
       "7  fly1   RW     154.035367  loadedhaltere1\n",
       "9  fly1   LW     119.242538  loadedhaltere2"
      ]
     },
     "execution_count": 5,
     "metadata": {},
     "output_type": "execute_result"
    }
   ],
   "source": [
    "df.head()"
   ]
  },
  {
   "cell_type": "code",
   "execution_count": 7,
   "metadata": {},
   "outputs": [
    {
     "data": {
      "image/png": "[encoded data removed]",
      "text/plain": [
       "<Figure size 720x576 with 1 Axes>"
      ]
     },
     "metadata": {
      "needs_background": "light"
     },
     "output_type": "display_data"
    }
   ],
   "source": [
    "fig, ax = plt.subplots(figsize=(10,8))\n",
    "sns.boxplot(ax = ax, x = 'treatment', y = 'med_amplitude', hue = 'body', data = df,\n",
    "           order = ['intacthalteres', 'loadedhaltere1', 'loadedhaltere2', 'loadedhaltere3', 'removedload'],\n",
    "           fliersize=0, **boxplot_kwargs)\n",
    "sns.stripplot(ax = ax, x = 'treatment', y = 'med_amplitude', hue = 'body', data = df,\n",
    "              order = ['intacthalteres', 'loadedhaltere1', 'loadedhaltere2', 'loadedhaltere3', 'removedload'],\n",
    "              dodge=True, **stripplot_kwargs)\n",
    "plt.savefig('../dataFolder/Figure/AmplitudeAnalysis/v1/haltere_loading_MedWBA.pdf')"
   ]
  },
  {
   "cell_type": "markdown",
   "metadata": {},
   "source": [
    "### Epi Ridge"
   ]
  },
  {
   "cell_type": "code",
   "execution_count": 8,
   "metadata": {},
   "outputs": [],
   "source": [
    "df = pd.read_csv('../dataFolder/AmplitudeAnalysis/v1/epi_ridge_cut/median_summary.csv')\n",
    "df = df.rename(columns={\"winglength\": \"treatment\"})\n",
    "\n",
    "# drop the haltere values \n",
    "i1 = df.loc[(df.body == 'LH')].index\n",
    "i2 = df.loc[(df.body == 'RH')].index\n",
    "indexNames = list(i1) + list(i2)\n",
    "df.drop(indexNames, inplace = True)\n",
    "df.drop(columns = 'Unnamed: 0', inplace = True)"
   ]
  },
  {
   "cell_type": "code",
   "execution_count": null,
   "metadata": {},
   "outputs": [],
   "source": [
    "df.head()"
   ]
  },
  {
   "cell_type": "code",
   "execution_count": null,
   "metadata": {},
   "outputs": [],
   "source": [
    "fig, ax = plt.subplots(figsize=(10,8))\n",
    "sns.boxplot(ax = ax, x = 'binned', y = 'med_amplitude', hue = 'body', data = df,\n",
    "           order = ['(0.3, 0.4]', '(0.4, 0.5]', '(0.5, 0.6]' ,'(0.6, 0.7]', '(0.7, 0.9]', '(0.9, 1.0]'],\n",
    "            fliersize=0, **boxplot_kwargs)\n",
    "sns.stripplot(ax = ax, x = 'binned', y = 'med_amplitude', hue = 'body', data = df,\n",
    "              order = ['(0.3, 0.4]', '(0.4, 0.5]', '(0.5, 0.6]' ,'(0.6, 0.7]', '(0.7, 0.9]', '(0.9, 1.0]'],\n",
    "           dodge=True, **stripplot_kwargs)\n",
    "plt.savefig('../dataFolder/Figure/AmplitudeAnalysis/v1/epi_ridge_cut_MedWBA.pdf')"
   ]
  },
  {
   "cell_type": "code",
   "execution_count": null,
   "metadata": {},
   "outputs": [],
   "source": [
    "pal = {'intact': '#231f20', 'clip': '#ed1c24'}\n",
    "\n",
    "boxprops = {'edgecolor': 'k', 'linewidth': 2,'alpha': 0.5}\n",
    "lineprops = {'color': 'k', 'linewidth': 2}\n",
    "capprops = {'linewidth': 0}\n",
    "\n",
    "# Set up some general kwargs that we'll use in both the stripplot and boxplot\n",
    "# Note that you can change the order of hue variables here.\n",
    "kwargs = {'palette': pal, 'hue_order': ['intact', 'clip']}\n",
    "\n",
    "# The boxplot kwargs get passed to matplotlib's boxplot function.\n",
    "# Note how we can re-use our lineprops dict to make sure all the lines\n",
    "# match. You could also edit each line type (e.g. whiskers, caps, etc)\n",
    "# separately.\n",
    "boxplot_kwargs = dict({'boxprops': boxprops, 'medianprops': lineprops,\n",
    "                       'whiskerprops': lineprops, 'capprops': capprops,\n",
    "                       'width': 0.75},\n",
    "                      **kwargs)\n",
    "stripplot_kwargs = dict({'linewidth': 0.6, 'size': 6, 'alpha': 0.7},\n",
    "                        **kwargs)"
   ]
  },
  {
   "cell_type": "markdown",
   "metadata": {},
   "source": [
    "### asymmetric wings"
   ]
  },
  {
   "cell_type": "code",
   "execution_count": null,
   "metadata": {},
   "outputs": [],
   "source": [
    "df = pd.read_csv('../dataFolder/AmplitudeAnalysis/v1/asymmetric_wings/median_summary.csv')\n",
    "df = df.rename(columns={\"winglength\": \"treatment\"})\n",
    "\n",
    "# drop the haltere values \n",
    "i1 = df.loc[(df.body == 'LH')].index\n",
    "i2 = df.loc[(df.body == 'RH')].index\n",
    "indexNames = list(i1) + list(i2)\n",
    "df.drop(indexNames, inplace = True)"
   ]
  },
  {
   "cell_type": "code",
   "execution_count": null,
   "metadata": {},
   "outputs": [],
   "source": [
    "df.head()"
   ]
  },
  {
   "cell_type": "code",
   "execution_count": null,
   "metadata": {},
   "outputs": [],
   "source": [
    "table = pd.read_csv('../dataFolder/AmplitudeAnalysis/v1/asymmetric_wings/Readme_leftRightWingClipped.txt', \n",
    "                   delimiter = \"\\t\")\n",
    "table\n",
    "# mapping_dict = table.set_index('name').T.to_dict('index')['clippedWing']\n",
    "# mapping_dict"
   ]
  },
  {
   "cell_type": "code",
   "execution_count": null,
   "metadata": {},
   "outputs": [],
   "source": [
    "bodypart = []\n",
    "for r, line in df.iterrows():\n",
    "    ref = table[table.name == line.flyID]\n",
    "    if line.body == ref.clippedWing.values[0]:\n",
    "        bp = 'clip'\n",
    "    else:\n",
    "        bp = 'intact'\n",
    "    bodypart.append(bp)"
   ]
  },
  {
   "cell_type": "code",
   "execution_count": null,
   "metadata": {},
   "outputs": [],
   "source": [
    "df['bodypart'] = bodypart"
   ]
  },
  {
   "cell_type": "code",
   "execution_count": null,
   "metadata": {},
   "outputs": [],
   "source": [
    "df"
   ]
  },
  {
   "cell_type": "code",
   "execution_count": null,
   "metadata": {},
   "outputs": [],
   "source": [
    "df.to_csv('../dataFolder/AmplitudeAnalysis/v1/asymmetric_wings/median_summary_edited.csv')"
   ]
  },
  {
   "cell_type": "code",
   "execution_count": null,
   "metadata": {
    "scrolled": true
   },
   "outputs": [],
   "source": [
    "fig, ax = plt.subplots(figsize=(10,8))\n",
    "sns.boxplot(ax = ax, x = 'binned', y = 'med_amplitude', hue = 'bodypart', data = df,\n",
    "           fliersize=0, **boxplot_kwargs)\n",
    "sns.stripplot(ax = ax, x = 'binned', y = 'med_amplitude', hue = 'bodypart', data = df,\n",
    "           dodge=True, **stripplot_kwargs)\n",
    "plt.savefig('../dataFolder/Figure/AmplitudeAnalysis/v1/asymmetric_wings_MedWBA.pdf')"
   ]
  },
  {
   "cell_type": "markdown",
   "metadata": {},
   "source": [
    "### slit sc"
   ]
  },
  {
   "cell_type": "code",
   "execution_count": null,
   "metadata": {},
   "outputs": [],
   "source": [
    "df = pd.read_csv('../dataFolder/AmplitudeAnalysis/v1/slit_sc/median_summary.csv')\n",
    "df = df.rename(columns={\"winglength\": \"treatment\"})\n",
    "\n",
    "# drop the haltere values \n",
    "i1 = df.loc[(df.body == 'LH')].index\n",
    "i2 = df.loc[(df.body == 'RH')].index\n",
    "indexNames = list(i1) + list(i2)\n",
    "df.drop(indexNames, inplace = True)"
   ]
  },
  {
   "cell_type": "code",
   "execution_count": null,
   "metadata": {},
   "outputs": [],
   "source": [
    "table = pd.read_csv('../dataFolder/AmplitudeAnalysis/v1/slit_sc/Readme_leftRightWingClipped.txt', \n",
    "                   delimiter = \"\\t\")\n",
    "table"
   ]
  },
  {
   "cell_type": "code",
   "execution_count": null,
   "metadata": {},
   "outputs": [],
   "source": [
    "bodypart = []\n",
    "for r, line in df.iterrows():\n",
    "    ref = table[table.name == line.flyID]\n",
    "    if line.body == ref.clippedWing.values[0]:\n",
    "        bp = 'clip'\n",
    "    else:\n",
    "        bp = 'intact'\n",
    "    bodypart.append(bp)\n",
    "df['bodypart'] = bodypart"
   ]
  },
  {
   "cell_type": "code",
   "execution_count": null,
   "metadata": {},
   "outputs": [],
   "source": [
    "df.head()"
   ]
  },
  {
   "cell_type": "code",
   "execution_count": null,
   "metadata": {},
   "outputs": [],
   "source": [
    "df.to_csv('../dataFolder/AmplitudeAnalysis/v1/slit_sc/median_summary_edited.csv')"
   ]
  },
  {
   "cell_type": "code",
   "execution_count": null,
   "metadata": {},
   "outputs": [],
   "source": [
    "fig, ax = plt.subplots(figsize=(10,8))\n",
    "sns.boxplot(ax = ax, x = 'binned', y = 'med_amplitude', hue = 'bodypart', data = df,\n",
    "           fliersize=0, **boxplot_kwargs,\n",
    "           order = ['(0.3, 0.5]', '(0.5, 0.6]', '(0.6, 0.7]', '(0.7, 0.9]', '(0.9, 1.0]'])\n",
    "sns.stripplot(ax = ax, x = 'binned', y = 'med_amplitude', hue = 'bodypart', data = df,\n",
    "           dodge=True, **stripplot_kwargs,\n",
    "             order = ['(0.3, 0.5]', '(0.5, 0.6]', '(0.6, 0.7]', '(0.7, 0.9]', '(0.9, 1.0]'])\n",
    "plt.savefig('../dataFolder/Figure/AmplitudeAnalysis/v1/Slit_sc_MedWBA.pdf')"
   ]
  },
  {
   "cell_type": "code",
   "execution_count": null,
   "metadata": {},
   "outputs": [],
   "source": []
  }
 ],
 "metadata": {
  "kernelspec": {
   "display_name": "Python 3",
   "language": "python",
   "name": "python3"
  },
  "language_info": {
   "codemirror_mode": {
    "name": "ipython",
    "version": 3
   },
   "file_extension": ".py",
   "mimetype": "text/x-python",
   "name": "python",
   "nbconvert_exporter": "python",
   "pygments_lexer": "ipython3",
   "version": "3.6.5"
  }
 },
 "nbformat": 4,
 "nbformat_minor": 2
}
